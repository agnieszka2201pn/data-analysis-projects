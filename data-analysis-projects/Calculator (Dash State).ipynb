{
 "cells": [
  {
   "cell_type": "code",
   "execution_count": 1,
   "id": "07446736",
   "metadata": {},
   "outputs": [],
   "source": [
    "import dash\n",
    "from dash import dcc, html\n",
    "from dash.dependencies import Input, Output, State"
   ]
  },
  {
   "cell_type": "code",
   "execution_count": 2,
   "id": "d0128c7a",
   "metadata": {},
   "outputs": [],
   "source": [
    "app = dash.Dash()\n",
    "app.layout = html.Div([html.H1('Calculator'),\n",
    "                      html.Label('first number'),\n",
    "                      dcc.Input(id='product-1', placeholder='5',\n",
    "                               type='number', value=''),\n",
    "                      html.Br(),\n",
    "                      html.Label('second number'),\n",
    "                      dcc.Input(id='product-2', placeholder='2',\n",
    "                               type='number', value=''),\n",
    "                       dcc.Input(id='operation', placeholder='+ - * /',\n",
    "                                type='text', value=''),\n",
    "                       html.Button('calculate', id='submit-btn'),\n",
    "                      html.Div(id='output', style = {'font-size':'30px',\n",
    "                                                    'margin':'10px 10px'})])"
   ]
  },
  {
   "cell_type": "code",
   "execution_count": 3,
   "id": "6867940f",
   "metadata": {},
   "outputs": [],
   "source": [
    "@app.callback(Output('output', 'children'),\n",
    "             [Input('submit-btn', 'n_clicks')],\n",
    "             [State('product-1', 'value'), State('product-2', 'value'), State('operation', 'value')])\n",
    "def calculate(n_clicks, prod_1, prod_2, operation):\n",
    "    if operation == '*':\n",
    "        result = prod_1 * prod_2\n",
    "    elif operation == '+':\n",
    "        result = prod_1 + prod_2\n",
    "    elif operation == '-':\n",
    "        result = prod_1 - prod_2\n",
    "    elif operation == '/':\n",
    "        result = round(prod_1 / prod_2, 2)\n",
    "    else:\n",
    "        result = 'wrong operation'\n",
    "        \n",
    "              \n",
    "    return result\n"
   ]
  },
  {
   "cell_type": "code",
   "execution_count": null,
   "id": "c716897e",
   "metadata": {},
   "outputs": [
    {
     "name": "stdout",
     "output_type": "stream",
     "text": [
      "Dash is running on http://127.0.0.1:8050/\n",
      "\n",
      " * Serving Flask app '__main__' (lazy loading)\n",
      " * Environment: production\n",
      "\u001b[31m   WARNING: This is a development server. Do not use it in a production deployment.\u001b[0m\n",
      "\u001b[2m   Use a production WSGI server instead.\u001b[0m\n",
      " * Debug mode: off\n"
     ]
    },
    {
     "name": "stderr",
     "output_type": "stream",
     "text": [
      " * Running on http://127.0.0.1:8050/ (Press CTRL+C to quit)\n",
      "127.0.0.1 - - [29/Jan/2022 16:33:05] \"GET / HTTP/1.1\" 200 -\n",
      "127.0.0.1 - - [29/Jan/2022 16:33:05] \"GET /_dash-layout HTTP/1.1\" 200 -\n",
      "127.0.0.1 - - [29/Jan/2022 16:33:05] \"GET /_dash-dependencies HTTP/1.1\" 200 -\n",
      "127.0.0.1 - - [29/Jan/2022 16:33:05] \"POST /_dash-update-component HTTP/1.1\" 200 -\n",
      "127.0.0.1 - - [29/Jan/2022 16:33:13] \"POST /_dash-update-component HTTP/1.1\" 200 -\n"
     ]
    }
   ],
   "source": [
    "if __name__ == '__main__':\n",
    "    app.run_server()"
   ]
  },
  {
   "cell_type": "code",
   "execution_count": null,
   "id": "3a22b251",
   "metadata": {},
   "outputs": [],
   "source": []
  }
 ],
 "metadata": {
  "kernelspec": {
   "display_name": "Python 3",
   "language": "python",
   "name": "python3"
  },
  "language_info": {
   "codemirror_mode": {
    "name": "ipython",
    "version": 3
   },
   "file_extension": ".py",
   "mimetype": "text/x-python",
   "name": "python",
   "nbconvert_exporter": "python",
   "pygments_lexer": "ipython3",
   "version": "3.8.10"
  }
 },
 "nbformat": 4,
 "nbformat_minor": 5
}
